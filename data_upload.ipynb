{
 "cells": [
  {
   "cell_type": "code",
   "execution_count": null,
   "metadata": {},
   "outputs": [],
   "source": [
    "import os\n",
    "import pandas as pd\n",
    "from datasets import Dataset, DatasetDict\n",
    "from concurrent.futures import ProcessPoolExecutor\n",
    "from tqdm.auto import tqdm"
   ]
  },
  {
   "cell_type": "code",
   "execution_count": null,
   "metadata": {},
   "outputs": [],
   "source": [
    "path = \"/root/robocup2d_data_processed2\"\n",
    "data_list = []\n",
    "for root, dirs, files in tqdm(\n",
    "    os.walk(path), total=len([None for _, _, _ in os.walk(path)])\n",
    "):\n",
    "    for file in tqdm(files, leave=False):\n",
    "        if file.endswith(\".csv\"):\n",
    "            df = pd.read_csv(os.path.join(root, file))\n",
    "            df = df.where(pd.notnull(df), None)\n",
    "            int_cols = df.select_dtypes(include=[\"int64\"]).columns\n",
    "            for col in int_cols:\n",
    "                df[col] = df[col].astype(\"float64\")\n",
    "            data_list.append(df)"
   ]
  },
  {
   "cell_type": "code",
   "execution_count": null,
   "metadata": {},
   "outputs": [],
   "source": [
    "len(data_list)"
   ]
  },
  {
   "cell_type": "code",
   "execution_count": null,
   "metadata": {},
   "outputs": [],
   "source": [
    "# pd.set_option('display.max_columns', 1000)\n",
    "\n",
    "data_list[0].dtypes.unique()\n",
    "\n",
    "# for i in data_list[0].dtypes:\n",
    "#     print(i)"
   ]
  },
  {
   "cell_type": "code",
   "execution_count": null,
   "metadata": {},
   "outputs": [],
   "source": [
    "def generator(data):\n",
    "    def _generator():\n",
    "        for d in tqdm(data):\n",
    "            yield d\n",
    "\n",
    "    return _generator\n",
    "\n",
    "\n",
    "dataset = Dataset.from_generator(generator(data_list))\n",
    "dataset"
   ]
  },
  {
   "cell_type": "code",
   "execution_count": null,
   "metadata": {},
   "outputs": [],
   "source": [
    "dataset.push_to_hub(\"<Repository Name>\")"
   ]
  }
 ],
 "metadata": {
  "kernelspec": {
   "display_name": "Python 3",
   "language": "python",
   "name": "python3"
  },
  "language_info": {
   "codemirror_mode": {
    "name": "ipython",
    "version": 3
   },
   "file_extension": ".py",
   "mimetype": "text/x-python",
   "name": "python",
   "nbconvert_exporter": "python",
   "pygments_lexer": "ipython3",
   "version": "3.11.0"
  }
 },
 "nbformat": 4,
 "nbformat_minor": 2
}
